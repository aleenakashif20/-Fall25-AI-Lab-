{
 "cells": [
  {
   "cell_type": "code",
   "execution_count": 2,
   "id": "066ffae6",
   "metadata": {},
   "outputs": [
    {
     "name": "stdout",
     "output_type": "stream",
     "text": [
      "Target located!\n",
      "Nodes visited in order: ['A', 'B', 'C', 'D', 'E', 'F', 'G']\n"
     ]
    }
   ],
   "source": [
    "class BFS:\n",
    "    def __init__(self, graph_data):\n",
    "        self.graph_data = graph_data\n",
    "        self.traversed_nodes = []\n",
    "\n",
    "    def run(self, start_node, target_node):\n",
    "        self.traversed_nodes = []\n",
    "        queue = [start_node]\n",
    "\n",
    "        while queue:\n",
    "            next_nodes = []\n",
    "            for current in queue:\n",
    "                if current not in self.traversed_nodes:\n",
    "                    self.traversed_nodes.append(current)\n",
    "\n",
    "                    if current == target_node:\n",
    "                        print(\"Target located!\")\n",
    "                        return\n",
    "\n",
    "                    next_nodes += self.graph_data[current]\n",
    "            queue = next_nodes\n",
    "\n",
    "        print(\"Target missing!\")\n",
    "\n",
    "    def visited_nodes(self):\n",
    "        return self.traversed_nodes\n",
    "\n",
    "graph_map = {\n",
    "    \"A\": [\"B\", \"C\"],\n",
    "    \"B\": [\"D\", \"E\"],\n",
    "    \"C\": [\"F\"],\n",
    "    \"D\": [],\n",
    "    \"E\": [],\n",
    "    \"F\": [\"G\"],\n",
    "    \"G\": []\n",
    "}\n",
    "\n",
    "bfs = BFS(graph_map)\n",
    "bfs.run(\"A\", \"G\")\n",
    "print(\"Nodes visited in order:\", bfs.visited_nodes())\n"
   ]
  },
  {
   "cell_type": "code",
   "execution_count": 3,
   "id": "e6cd544e",
   "metadata": {},
   "outputs": [
    {
     "name": "stdout",
     "output_type": "stream",
     "text": [
      "Goal reached!\n",
      "Visited nodes in order: ['A', 'B', 'C', 'D', 'E', 'F', 'G']\n"
     ]
    }
   ],
   "source": [
    "def bfs_search(graph, start_node, target_node):\n",
    "    visited = []\n",
    "    queue = [start_node]\n",
    "\n",
    "    while queue:\n",
    "        node = queue.pop(0)\n",
    "\n",
    "        if node not in visited:\n",
    "            visited.append(node)\n",
    "\n",
    "            if node == target_node:\n",
    "                print(\"Goal reached!\")\n",
    "                return visited\n",
    "\n",
    "            for neighbour in graph[node]:\n",
    "                queue.append(neighbour)\n",
    "\n",
    "    print(\"Goal not found!\")\n",
    "    return visited\n",
    "\n",
    "graph_map = {\n",
    "    \"A\": [\"B\", \"C\"],\n",
    "    \"B\": [\"D\", \"E\"],\n",
    "    \"C\": [\"F\"],\n",
    "    \"D\": [],\n",
    "    \"E\": [],\n",
    "    \"F\": [\"G\"],\n",
    "    \"G\": []\n",
    "}\n",
    "\n",
    "path = bfs_search(graph_map, \"A\", \"G\")\n",
    "print(\"Visited nodes in order:\", path)\n"
   ]
  }
 ],
 "metadata": {
  "kernelspec": {
   "display_name": "Python 3",
   "language": "python",
   "name": "python3"
  },
  "language_info": {
   "codemirror_mode": {
    "name": "ipython",
    "version": 3
   },
   "file_extension": ".py",
   "mimetype": "text/x-python",
   "name": "python",
   "nbconvert_exporter": "python",
   "pygments_lexer": "ipython3",
   "version": "3.10.11"
  }
 },
 "nbformat": 4,
 "nbformat_minor": 5
}

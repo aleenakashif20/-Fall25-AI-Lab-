{
 "cells": [
  {
   "cell_type": "code",
   "execution_count": null,
   "metadata": {},
   "outputs": [],
   "source": [
    "\n",
    "\n",
    "tasks = [] \n",
    "\n",
    "def add_task():\n",
    "    task = input(\"Enter a task: \")\n",
    "    tasks.append(task)\n",
    "    print(\"Task added!\")\n",
    "\n",
    "def view_tasks():\n",
    "    if not tasks:\n",
    "        print(\"No tasks in the list.\")\n",
    "    else:\n",
    "        print(\"Your tasks:\")\n",
    "        for i, task in enumerate(tasks, start=1):\n",
    "            print(i, \"-\", task)\n",
    "\n",
    "def remove_task():\n",
    "    view_tasks()\n",
    "    if tasks:\n",
    "        num = int(input(\"Enter the task number to remove: \"))\n",
    "        if 1 <= num <= len(tasks):\n",
    "            removed = tasks.pop(num - 1)\n",
    "            print(f\"Task '{removed}' removed!\")\n",
    "        else:\n",
    "            print(\"Invalid task number!\")\n",
    "\n",
    "while True:\n",
    "    print(\"\\n--- To-Do List Menu ---\")\n",
    "    print(\"1. Add Task\")\n",
    "    print(\"2. View Tasks\")\n",
    "    print(\"3. Remove Task\")\n",
    "    print(\"4. Exit\")\n",
    "\n",
    "    choice = input(\"Enter your choice: \")\n",
    "\n",
    "    if choice == \"1\":\n",
    "        add_task()\n",
    "    elif choice == \"2\":\n",
    "        view_tasks()\n",
    "    elif choice == \"3\":\n",
    "        remove_task()\n",
    "    elif choice == \"4\":\n",
    "        print(\"Goodbye!\")\n",
    "        break\n",
    "    else:\n",
    "        print(\"Invalid choice! Please try again.\")\n"
   ]
  }
 ],
 "metadata": {
  "kernelspec": {
   "display_name": "base",
   "language": "python",
   "name": "python3"
  },
  "language_info": {
   "name": "python",
   "version": "3.12.4"
  }
 },
 "nbformat": 4,
 "nbformat_minor": 2
}
